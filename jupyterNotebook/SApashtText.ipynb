{
 "cells": [
  {
   "cell_type": "markdown",
   "metadata": {},
   "source": [
    "#### Sentiment Analysis of Social Media Content in Pashto text"
   ]
  },
  {
   "cell_type": "markdown",
   "metadata": {},
   "source": [
    "In the present era, people express their opinions on social media in the English language as well as their native languages. So we performed a Sentiment Analysis of the native language 'Pashto'. The Pashto language is the national language of Afghanistan, and it is spoken in many regions of Pakistan. We used online social networks generated corpus translated into English and annotated it into positive, and negative, by two different native and well-aware Pashto speakers.\n",
    "Here we performed Sentiment Analysis (SA) on Pashto Text using Machine Learning Models including Support Vector Machine (SVM), Naive Bayes (NB), Decision Tree (DT), Random Forest (RF) and AdaBoost with n-gram model of feature extraction technique."
   ]
  },
  {
   "cell_type": "code",
   "execution_count": 1,
   "metadata": {},
   "outputs": [],
   "source": [
    "# importing the necessary libraries \n",
    "import matplotlib.pyplot as plt\n",
    "import seaborn as sns\n",
    "import pandas as pd\n",
    "import numpy as np\n",
    "import warnings\n",
    "warnings.filterwarnings('ignore')\n",
    "import os"
   ]
  },
  {
   "cell_type": "code",
   "execution_count": 2,
   "metadata": {},
   "outputs": [],
   "source": [
    "# load the corpus from my local storage \n",
    "os.chdir(\"C:\\\\Users\\\\Toshiba\\\\Desktop\\\\New folder\\\\dsProjects\\saDeployment\\jupyterNotebook\") # set path\n",
    "pashtoText= pd.read_csv('PashtoCorpusUpdated.csv')"
   ]
  },
  {
   "cell_type": "code",
   "execution_count": 3,
   "metadata": {},
   "outputs": [
    {
     "name": "stdout",
     "output_type": "stream",
     "text": [
      "<class 'pandas.core.frame.DataFrame'>\n",
      "RangeIndex: 600 entries, 0 to 599\n",
      "Data columns (total 7 columns):\n",
      " #   Column               Non-Null Count  Dtype \n",
      "---  ------               --------------  ----- \n",
      " 0   Id                   600 non-null    int64 \n",
      " 1   Source               12 non-null     object\n",
      " 2   Topic                19 non-null     object\n",
      " 3   PashtoText           600 non-null    object\n",
      " 4   EnglishtTranslation  600 non-null    object\n",
      " 5   AnnotatorOne         600 non-null    object\n",
      " 6   AnnotatorTwo         600 non-null    object\n",
      "dtypes: int64(1), object(6)\n",
      "memory usage: 32.9+ KB\n"
     ]
    }
   ],
   "source": [
    "pashtoText.info()"
   ]
  },
  {
   "cell_type": "code",
   "execution_count": 4,
   "metadata": {},
   "outputs": [
    {
     "data": {
      "text/html": [
       "<div>\n",
       "<style scoped>\n",
       "    .dataframe tbody tr th:only-of-type {\n",
       "        vertical-align: middle;\n",
       "    }\n",
       "\n",
       "    .dataframe tbody tr th {\n",
       "        vertical-align: top;\n",
       "    }\n",
       "\n",
       "    .dataframe thead th {\n",
       "        text-align: right;\n",
       "    }\n",
       "</style>\n",
       "<table border=\"1\" class=\"dataframe\">\n",
       "  <thead>\n",
       "    <tr style=\"text-align: right;\">\n",
       "      <th></th>\n",
       "      <th>Id</th>\n",
       "      <th>Source</th>\n",
       "      <th>Topic</th>\n",
       "      <th>PashtoText</th>\n",
       "      <th>EnglishtTranslation</th>\n",
       "      <th>AnnotatorOne</th>\n",
       "      <th>AnnotatorTwo</th>\n",
       "    </tr>\n",
       "  </thead>\n",
       "  <tbody>\n",
       "    <tr>\n",
       "      <th>0</th>\n",
       "      <td>1</td>\n",
       "      <td>https://www.facebook.com/167959249906191/posts...</td>\n",
       "      <td>افغان ولسمشر محمد اشرف غني ویلي، په اوسنیو شرا...</td>\n",
       "      <td>د لیوني څخه پوښتنه د یو لیونی څخه یو چا پوښتنه...</td>\n",
       "      <td>Question from a madman Someone asked that grie...</td>\n",
       "      <td>Negative</td>\n",
       "      <td>Negative</td>\n",
       "    </tr>\n",
       "    <tr>\n",
       "      <th>1</th>\n",
       "      <td>2</td>\n",
       "      <td>NaN</td>\n",
       "      <td>Afghan President Mohammad Ashraf Ghani said th...</td>\n",
       "      <td>جهالت د نابالغه ماشومانو  په باچا پورې خندل نه...</td>\n",
       "      <td>Ignorance of immature children ,If you don't l...</td>\n",
       "      <td>Positive</td>\n",
       "      <td>Positive</td>\n",
       "    </tr>\n",
       "    <tr>\n",
       "      <th>2</th>\n",
       "      <td>3</td>\n",
       "      <td>NaN</td>\n",
       "      <td>NaN</td>\n",
       "      <td>ماته خو بی خوبه  خکاری نور نه پو هیږم</td>\n",
       "      <td>I like it but I don't know anymore</td>\n",
       "      <td>Positive</td>\n",
       "      <td>Positive</td>\n",
       "    </tr>\n",
       "    <tr>\n",
       "      <th>3</th>\n",
       "      <td>4</td>\n",
       "      <td>NaN</td>\n",
       "      <td>NaN</td>\n",
       "      <td>عنى ځان لپاره عمحوار دى نه د وطن حلکو لپاره دا...</td>\n",
       "      <td>Ghani is a leader for himself and not for the ...</td>\n",
       "      <td>Negative</td>\n",
       "      <td>Negative</td>\n",
       "    </tr>\n",
       "    <tr>\n",
       "      <th>4</th>\n",
       "      <td>5</td>\n",
       "      <td>NaN</td>\n",
       "      <td>NaN</td>\n",
       "      <td>خپله سه بلا وهلي یی ړوزي خو نه دي چي کوي یی</td>\n",
       "      <td>what happened with you. This is not joking tha...</td>\n",
       "      <td>Negative</td>\n",
       "      <td>Negative</td>\n",
       "    </tr>\n",
       "  </tbody>\n",
       "</table>\n",
       "</div>"
      ],
      "text/plain": [
       "   Id                                             Source  \\\n",
       "0   1  https://www.facebook.com/167959249906191/posts...   \n",
       "1   2                                                NaN   \n",
       "2   3                                                NaN   \n",
       "3   4                                                NaN   \n",
       "4   5                                                NaN   \n",
       "\n",
       "                                               Topic  \\\n",
       "0  افغان ولسمشر محمد اشرف غني ویلي، په اوسنیو شرا...   \n",
       "1  Afghan President Mohammad Ashraf Ghani said th...   \n",
       "2                                                NaN   \n",
       "3                                                NaN   \n",
       "4                                                NaN   \n",
       "\n",
       "                                          PashtoText  \\\n",
       "0  د لیوني څخه پوښتنه د یو لیونی څخه یو چا پوښتنه...   \n",
       "1  جهالت د نابالغه ماشومانو  په باچا پورې خندل نه...   \n",
       "2              ماته خو بی خوبه  خکاری نور نه پو هیږم   \n",
       "3  عنى ځان لپاره عمحوار دى نه د وطن حلکو لپاره دا...   \n",
       "4        خپله سه بلا وهلي یی ړوزي خو نه دي چي کوي یی   \n",
       "\n",
       "                                 EnglishtTranslation AnnotatorOne AnnotatorTwo  \n",
       "0  Question from a madman Someone asked that grie...     Negative     Negative  \n",
       "1  Ignorance of immature children ,If you don't l...     Positive     Positive  \n",
       "2                 I like it but I don't know anymore     Positive     Positive  \n",
       "3  Ghani is a leader for himself and not for the ...     Negative     Negative  \n",
       "4  what happened with you. This is not joking tha...     Negative     Negative  "
      ]
     },
     "execution_count": 4,
     "metadata": {},
     "output_type": "execute_result"
    }
   ],
   "source": [
    "pashtoText.head()"
   ]
  },
  {
   "cell_type": "code",
   "execution_count": 5,
   "metadata": {},
   "outputs": [],
   "source": [
    "# dropping unnecessary columns\n",
    "pashtoText.drop([\"Id\",\"Source\", \"Topic\", \"PashtoText\", \"AnnotatorTwo\"], axis=1, inplace=True)"
   ]
  },
  {
   "cell_type": "code",
   "execution_count": 6,
   "metadata": {},
   "outputs": [],
   "source": [
    "pashtoText['EnglishtTranslation'] = pashtoText['EnglishtTranslation'].astype('string')\n",
    "pashtoText['AnnotatorOne'] = pashtoText['AnnotatorOne'].astype('string')"
   ]
  },
  {
   "cell_type": "code",
   "execution_count": 7,
   "metadata": {},
   "outputs": [
    {
     "name": "stdout",
     "output_type": "stream",
     "text": [
      "<class 'pandas.core.frame.DataFrame'>\n",
      "RangeIndex: 600 entries, 0 to 599\n",
      "Data columns (total 2 columns):\n",
      " #   Column               Non-Null Count  Dtype \n",
      "---  ------               --------------  ----- \n",
      " 0   EnglishtTranslation  600 non-null    string\n",
      " 1   AnnotatorOne         600 non-null    string\n",
      "dtypes: string(2)\n",
      "memory usage: 9.5 KB\n"
     ]
    }
   ],
   "source": [
    "pashtoText.info()"
   ]
  },
  {
   "cell_type": "code",
   "execution_count": 8,
   "metadata": {},
   "outputs": [
    {
     "data": {
      "text/html": [
       "<div>\n",
       "<style scoped>\n",
       "    .dataframe tbody tr th:only-of-type {\n",
       "        vertical-align: middle;\n",
       "    }\n",
       "\n",
       "    .dataframe tbody tr th {\n",
       "        vertical-align: top;\n",
       "    }\n",
       "\n",
       "    .dataframe thead th {\n",
       "        text-align: right;\n",
       "    }\n",
       "</style>\n",
       "<table border=\"1\" class=\"dataframe\">\n",
       "  <thead>\n",
       "    <tr style=\"text-align: right;\">\n",
       "      <th></th>\n",
       "      <th>EnglishtTranslation</th>\n",
       "      <th>AnnotatorOne</th>\n",
       "    </tr>\n",
       "  </thead>\n",
       "  <tbody>\n",
       "    <tr>\n",
       "      <th>0</th>\n",
       "      <td>Question from a madman Someone asked that grie...</td>\n",
       "      <td>0</td>\n",
       "    </tr>\n",
       "    <tr>\n",
       "      <th>1</th>\n",
       "      <td>Ignorance of immature children ,If you don't l...</td>\n",
       "      <td>1</td>\n",
       "    </tr>\n",
       "    <tr>\n",
       "      <th>2</th>\n",
       "      <td>I like it but I don't know anymore</td>\n",
       "      <td>1</td>\n",
       "    </tr>\n",
       "    <tr>\n",
       "      <th>3</th>\n",
       "      <td>Ghani is a leader for himself and not for the ...</td>\n",
       "      <td>0</td>\n",
       "    </tr>\n",
       "    <tr>\n",
       "      <th>4</th>\n",
       "      <td>what happened with you. This is not joking tha...</td>\n",
       "      <td>0</td>\n",
       "    </tr>\n",
       "  </tbody>\n",
       "</table>\n",
       "</div>"
      ],
      "text/plain": [
       "                                 EnglishtTranslation  AnnotatorOne\n",
       "0  Question from a madman Someone asked that grie...             0\n",
       "1  Ignorance of immature children ,If you don't l...             1\n",
       "2                 I like it but I don't know anymore             1\n",
       "3  Ghani is a leader for himself and not for the ...             0\n",
       "4  what happened with you. This is not joking tha...             0"
      ]
     },
     "execution_count": 8,
     "metadata": {},
     "output_type": "execute_result"
    }
   ],
   "source": [
    "# covert string into numerical of reviewe attr\n",
    "labels = {\"Positive\": 1, \"Negative\": 0}\n",
    "pashtoText['AnnotatorOne'] = pashtoText['AnnotatorOne'].map(labels)\n",
    "pashtoText.head()"
   ]
  },
  {
   "cell_type": "code",
   "execution_count": 9,
   "metadata": {},
   "outputs": [
    {
     "data": {
      "text/plain": [
       "<AxesSubplot:xlabel='AnnotatorOne', ylabel='count'>"
      ]
     },
     "execution_count": 9,
     "metadata": {},
     "output_type": "execute_result"
    },
    {
     "data": {
      "image/png": "[encoded data removed]",
      "text/plain": [
       "<Figure size 432x288 with 1 Axes>"
      ]
     },
     "metadata": {
      "needs_background": "light"
     },
     "output_type": "display_data"
    }
   ],
   "source": [
    "import seaborn as sns \n",
    "sns.countplot(pashtoText['AnnotatorOne'])\n",
    "# pashtoText['AnnotatorOne'].value_counts(normalize=True)*100"
   ]
  },
  {
   "cell_type": "code",
   "execution_count": 10,
   "metadata": {},
   "outputs": [],
   "source": [
    "from nltk.corpus import stopwords # to remove the stopwrods\n",
    "from nltk.stem.porter import PorterStemmer # steam to root word every\n",
    "import re\n",
    "steamer = PorterStemmer()"
   ]
  },
  {
   "cell_type": "code",
   "execution_count": 11,
   "metadata": {},
   "outputs": [
    {
     "name": "stderr",
     "output_type": "stream",
     "text": [
      "100%|██████████| 600/600 [00:03<00:00, 180.82it/s]\n"
     ]
    }
   ],
   "source": [
    "from tqdm import tqdm # to show the process bar\n",
    "cleanedText = []\n",
    "for i in tqdm(range(0,len(pashtoText))):\n",
    "    temp = re.sub('[^a-zA-Z]', ' ',pashtoText['EnglishtTranslation'][i]) \n",
    "    temp = temp.lower() \n",
    "    temp = temp.split() \n",
    "    temp = [steamer.stem(word) for word in temp if not word in stopwords.words('english')] \n",
    "    temp = ' '.join(temp) \n",
    "    cleanedText.append(temp)"
   ]
  },
  {
   "cell_type": "code",
   "execution_count": null,
   "metadata": {},
   "outputs": [],
   "source": [
    "# PashtoText['EnglishtTranslation'] = cleanedText\n",
    "# pd.DataFrame(PashtoText.head())\n",
    "# pd.DataFrame(cleanedText)"
   ]
  },
  {
   "cell_type": "code",
   "execution_count": 12,
   "metadata": {},
   "outputs": [],
   "source": [
    "from sklearn.feature_extraction.text import CountVectorizer # import the feature extraction model n-gram\n",
    "ngramVC = CountVectorizer(ngram_range=(1, 2))\n",
    "ngramX = ngramVC.fit_transform(cleanedText).toarray()"
   ]
  },
  {
   "cell_type": "code",
   "execution_count": 13,
   "metadata": {},
   "outputs": [
    {
     "name": "stdout",
     "output_type": "stream",
     "text": [
      "(600, 3440)\n"
     ]
    }
   ],
   "source": [
    "print(ngramX.shape)"
   ]
  },
  {
   "cell_type": "code",
   "execution_count": 14,
   "metadata": {},
   "outputs": [
    {
     "name": "stdout",
     "output_type": "stream",
     "text": [
      "Feature Train X shape: (480, 3440)\n",
      "Feature Test X shape : (120, 3440)\n",
      "Targete Train Y shape: (480,)\n",
      "Feature test Y shape : (120,)\n"
     ]
    }
   ],
   "source": [
    "from sklearn.model_selection import train_test_split # to split the data\n",
    "targetVar = pashtoText['AnnotatorOne']\n",
    "fTrainX, fTestX, tTrainY, tTestY = train_test_split(ngramX, targetVar, test_size= 0.2, random_state=60)\n",
    "print(\"Feature Train X shape:\", fTrainX.shape)\n",
    "print(\"Feature Test X shape :\", fTestX.shape)\n",
    "print(\"Targete Train Y shape:\", tTrainY.shape)\n",
    "print(\"Feature test Y shape :\", tTestY.shape)"
   ]
  },
  {
   "cell_type": "markdown",
   "metadata": {},
   "source": [
    "## SVM Model"
   ]
  },
  {
   "cell_type": "code",
   "execution_count": 15,
   "metadata": {},
   "outputs": [],
   "source": [
    "from sklearn import svm\n",
    "from sklearn.metrics import accuracy_score\n",
    "from sklearn.metrics import accuracy_score, classification_report"
   ]
  },
  {
   "cell_type": "code",
   "execution_count": 18,
   "metadata": {},
   "outputs": [],
   "source": [
    "svmModel = svm.SVC(kernel='linear', probability=True).fit(fTrainX, tTrainY)"
   ]
  },
  {
   "cell_type": "code",
   "execution_count": 19,
   "metadata": {},
   "outputs": [],
   "source": [
    "svmPrediction = svmModel.predict(fTestX)"
   ]
  },
  {
   "cell_type": "code",
   "execution_count": 20,
   "metadata": {},
   "outputs": [
    {
     "name": "stdout",
     "output_type": "stream",
     "text": [
      "Accuracy of SVM Model:0.78\n",
      "              precision    recall  f1-score   support\n",
      "\n",
      "           0       0.71      0.60      0.65        40\n",
      "           1       0.81      0.88      0.84        80\n",
      "\n",
      "    accuracy                           0.78       120\n",
      "   macro avg       0.76      0.74      0.75       120\n",
      "weighted avg       0.78      0.78      0.78       120\n",
      "\n"
     ]
    }
   ],
   "source": [
    "print(f\"Accuracy of SVM Model:{ accuracy_score(tTestY, svmPrediction):.2f}\")\n",
    "print(classification_report(tTestY, svmPrediction))"
   ]
  },
  {
   "cell_type": "code",
   "execution_count": 21,
   "metadata": {},
   "outputs": [
    {
     "data": {
      "image/png": "[encoded data removed]",
      "text/plain": [
       "<Figure size 432x288 with 2 Axes>"
      ]
     },
     "metadata": {
      "needs_background": "light"
     },
     "output_type": "display_data"
    }
   ],
   "source": [
    "# ploting the confusion matrix\n",
    "confusionMatrix = pd.crosstab(tTestY, svmPrediction)\n",
    "conf = sns.heatmap(confusionMatrix, annot=True, cmap='Blues', fmt='d')\n",
    "conf.set_title('Confusion matrix\\n\\n');\n",
    "conf.set_xlabel('\\nModel predicted vlaues')\n",
    "conf.set_ylabel('Actual Values')\n",
    "plt.show()"
   ]
  },
  {
   "cell_type": "markdown",
   "metadata": {},
   "source": [
    "Naive Bayes"
   ]
  },
  {
   "cell_type": "code",
   "execution_count": 22,
   "metadata": {},
   "outputs": [],
   "source": [
    "from sklearn.naive_bayes import MultinomialNB\n",
    "nbModel = MultinomialNB().fit(fTrainX, tTrainY)"
   ]
  },
  {
   "cell_type": "code",
   "execution_count": 23,
   "metadata": {},
   "outputs": [],
   "source": [
    "nbPrediction = nbModel.predict(fTestX)"
   ]
  },
  {
   "cell_type": "code",
   "execution_count": 24,
   "metadata": {},
   "outputs": [
    {
     "name": "stdout",
     "output_type": "stream",
     "text": [
      "Accuracy score of NB model:  0.82\n",
      "              precision    recall  f1-score   support\n",
      "\n",
      "           0       0.72      0.72      0.73        40\n",
      "           1       0.86      0.86      0.86        80\n",
      "\n",
      "    accuracy                           0.82       120\n",
      "   macro avg       0.79      0.79      0.79       120\n",
      "weighted avg       0.82      0.82      0.82       120\n",
      "\n"
     ]
    }
   ],
   "source": [
    "print(f\"Accuracy score of NB model: { accuracy_score(tTestY, nbPrediction): .2f}\")\n",
    "print(classification_report(tTestY, nbPrediction))"
   ]
  },
  {
   "cell_type": "code",
   "execution_count": 25,
   "metadata": {},
   "outputs": [
    {
     "data": {
      "image/png": "[encoded data removed]",
      "text/plain": [
       "<Figure size 432x288 with 2 Axes>"
      ]
     },
     "metadata": {
      "needs_background": "light"
     },
     "output_type": "display_data"
    }
   ],
   "source": [
    "# ploting the confusion matrix\n",
    "confusionMatrix = pd.crosstab(tTestY, nbPrediction)\n",
    "conf = sns.heatmap(confusionMatrix, annot=True, cmap='Blues', fmt='d')\n",
    "conf.set_title('Confusion matrix\\n\\n');\n",
    "conf.set_xlabel('\\nModel predicted vlaues')\n",
    "conf.set_ylabel('Actual Values')\n",
    "plt.show()"
   ]
  },
  {
   "cell_type": "code",
   "execution_count": 38,
   "metadata": {},
   "outputs": [],
   "source": [
    "# sen = ['ghani is a great leader I lik him']\n",
    "# res =nbModel.predict(sen)\n",
    "# print(res)"
   ]
  },
  {
   "cell_type": "code",
   "execution_count": 29,
   "metadata": {},
   "outputs": [
    {
     "name": "stdout",
     "output_type": "stream",
     "text": [
      "Positive review\n"
     ]
    }
   ],
   "source": [
    "opinion = 'I like him'\n",
    "opinion = re.sub('[^a-zA-Z]', ' ', opinion)\n",
    "opinion = opinion.lower()\n",
    "opinion = opinion.split()\n",
    "steamer = PorterStemmer()\n",
    "stopwordAll = stopwords.words('english')\n",
    "stopwordAll.remove('not')\n",
    "opinion = [steamer.stem(word) for word in opinion if not word in set(stopwordAll)]\n",
    "opinion = ' '.join(opinion)\n",
    "corpusNew = [opinion]\n",
    "TestX = ngramVC.transform(corpusNew).toarray()\n",
    "predYNew = nbModel.predict(TestX)\n",
    "if predYNew == 1:\n",
    "  print(\"Positive review\")\n",
    "elif predYNew == 0:\n",
    "  print(\"Negative review\")"
   ]
  },
  {
   "cell_type": "markdown",
   "metadata": {},
   "source": [
    "Desion Tree Model"
   ]
  },
  {
   "cell_type": "code",
   "execution_count": 30,
   "metadata": {},
   "outputs": [],
   "source": [
    "from sklearn.tree import DecisionTreeClassifier\n",
    "dtModel = DecisionTreeClassifier(criterion = 'gini')\n",
    "dtModel = dtModel.fit(fTrainX, tTrainY)"
   ]
  },
  {
   "cell_type": "code",
   "execution_count": 31,
   "metadata": {},
   "outputs": [],
   "source": [
    "dtPrediction = dtModel.predict(fTestX)"
   ]
  },
  {
   "cell_type": "code",
   "execution_count": 32,
   "metadata": {},
   "outputs": [
    {
     "name": "stdout",
     "output_type": "stream",
     "text": [
      "Accuracy score of DT model:  0.72\n",
      "              precision    recall  f1-score   support\n",
      "\n",
      "           0       0.56      0.68      0.61        40\n",
      "           1       0.82      0.74      0.78        80\n",
      "\n",
      "    accuracy                           0.72       120\n",
      "   macro avg       0.69      0.71      0.69       120\n",
      "weighted avg       0.73      0.72      0.72       120\n",
      "\n"
     ]
    }
   ],
   "source": [
    "print(f\"Accuracy score of DT model: { accuracy_score(tTestY, dtPrediction): .2f}\")\n",
    "print(classification_report(tTestY, dtPrediction))"
   ]
  },
  {
   "cell_type": "code",
   "execution_count": 33,
   "metadata": {},
   "outputs": [
    {
     "data": {
      "image/png": "[encoded data removed]",
      "text/plain": [
       "<Figure size 432x288 with 2 Axes>"
      ]
     },
     "metadata": {
      "needs_background": "light"
     },
     "output_type": "display_data"
    }
   ],
   "source": [
    "# ploting the confusion matrix\n",
    "confusionMatrix = pd.crosstab(tTestY, dtPrediction)\n",
    "conf = sns.heatmap(confusionMatrix, annot=True, cmap='Blues', fmt='d')\n",
    "conf.set_title('Confusion matrix\\n\\n');\n",
    "conf.set_xlabel('\\nModel predicted vlaues')\n",
    "conf.set_ylabel('Actual Values')\n",
    "plt.show()"
   ]
  },
  {
   "cell_type": "markdown",
   "metadata": {},
   "source": [
    "Rando Forest Model"
   ]
  },
  {
   "cell_type": "code",
   "execution_count": 34,
   "metadata": {},
   "outputs": [],
   "source": [
    "from sklearn.ensemble import RandomForestClassifier\n",
    "rfModel = RandomForestClassifier(random_state=50)\n",
    "rfModel = rfModel.fit(fTrainX, tTrainY)"
   ]
  },
  {
   "cell_type": "code",
   "execution_count": 35,
   "metadata": {},
   "outputs": [],
   "source": [
    "rfPrediction = rfModel.predict(fTestX)"
   ]
  },
  {
   "cell_type": "code",
   "execution_count": 36,
   "metadata": {},
   "outputs": [
    {
     "name": "stdout",
     "output_type": "stream",
     "text": [
      "Accuracy score of RF model:  0.78\n",
      "              precision    recall  f1-score   support\n",
      "\n",
      "           0       0.78      0.45      0.57        40\n",
      "           1       0.77      0.94      0.85        80\n",
      "\n",
      "    accuracy                           0.78       120\n",
      "   macro avg       0.78      0.69      0.71       120\n",
      "weighted avg       0.78      0.78      0.76       120\n",
      "\n"
     ]
    }
   ],
   "source": [
    "print(f\"Accuracy score of RF model: { accuracy_score(tTestY, rfPrediction): .2f}\")\n",
    "print(classification_report(tTestY, rfPrediction))"
   ]
  },
  {
   "cell_type": "markdown",
   "metadata": {},
   "source": [
    "AdaBoost Model"
   ]
  },
  {
   "cell_type": "code",
   "execution_count": 37,
   "metadata": {},
   "outputs": [],
   "source": [
    "from sklearn.ensemble import AdaBoostClassifier\n",
    "adaBdefine = AdaBoostClassifier(n_estimators=50, random_state=10)\n",
    "adaBoostModel = adaBdefine.fit(fTrainX, tTrainY)"
   ]
  },
  {
   "cell_type": "code",
   "execution_count": 38,
   "metadata": {},
   "outputs": [],
   "source": [
    "adBoostPrediction = adaBoostModel.predict(fTestX)"
   ]
  },
  {
   "cell_type": "code",
   "execution_count": 40,
   "metadata": {},
   "outputs": [
    {
     "name": "stdout",
     "output_type": "stream",
     "text": [
      "Accuracy score of RF model:  0.75\n",
      "              precision    recall  f1-score   support\n",
      "\n",
      "           0       0.68      0.47      0.56        40\n",
      "           1       0.77      0.89      0.83        80\n",
      "\n",
      "    accuracy                           0.75       120\n",
      "   macro avg       0.73      0.68      0.69       120\n",
      "weighted avg       0.74      0.75      0.74       120\n",
      "\n"
     ]
    }
   ],
   "source": [
    "print(f\"Accuracy score of RF model: { accuracy_score(tTestY, adBoostPrediction): .2f}\")\n",
    "print(classification_report(tTestY, adBoostPrediction))"
   ]
  },
  {
   "cell_type": "markdown",
   "metadata": {},
   "source": [
    "Probablities Prediction"
   ]
  },
  {
   "cell_type": "code",
   "execution_count": 41,
   "metadata": {},
   "outputs": [],
   "source": [
    "probs = [0 for _ in range(len(tTestY))]\n",
    "svmProb = svmModel.predict_proba(fTestX)\n",
    "nbProb = nbModel.predict_proba(fTestX)\n",
    "dtProb = dtModel.predict_proba(fTestX)\n",
    "rfProb = rfModel.predict_proba(fTestX)\n",
    "adaBoostProb = adaBoostModel.predict_proba(fTestX)"
   ]
  },
  {
   "cell_type": "markdown",
   "metadata": {},
   "source": [
    "Probablities of positive outcome"
   ]
  },
  {
   "cell_type": "code",
   "execution_count": 42,
   "metadata": {},
   "outputs": [],
   "source": [
    "svmProb = svmProb[:, 1]\n",
    "nbProb = nbProb[:, 1]\n",
    "dtProb = dtProb[:, 1]\n",
    "rfProb = rfProb[:, 1]\n",
    "adaBoostProb = adaBoostProb[:, 1]"
   ]
  },
  {
   "cell_type": "markdown",
   "metadata": {},
   "source": [
    "AUROC values"
   ]
  },
  {
   "cell_type": "code",
   "execution_count": 43,
   "metadata": {},
   "outputs": [],
   "source": [
    "from sklearn.metrics import roc_curve, roc_auc_score\n",
    "aurRand = roc_auc_score(tTestY, probs)\n",
    "svmAUC = roc_auc_score(tTestY, svmProb)\n",
    "nbAUC = roc_auc_score(tTestY, nbProb)\n",
    "dtAUC = roc_auc_score(tTestY, dtProb)\n",
    "rfAUC = roc_auc_score(tTestY, rfProb)\n",
    "adaBoostAUC = roc_auc_score(tTestY, adaBoostProb)"
   ]
  },
  {
   "cell_type": "markdown",
   "metadata": {},
   "source": [
    "Display the AUCROC Score "
   ]
  },
  {
   "cell_type": "code",
   "execution_count": 45,
   "metadata": {},
   "outputs": [
    {
     "name": "stdout",
     "output_type": "stream",
     "text": [
      "Random prediction AUROC ____ = 0.500\n",
      "SVM score of AUROC ________  = 0.870\n",
      "Naive Bayes score of AUROC _ = 0.862\n",
      "Decion Tree score of AUROC _ = 0.706\n",
      "Random Forest score of AUROC = 0.878\n",
      "AdaBoost Score of AUROC ____ = 0.792\n"
     ]
    }
   ],
   "source": [
    "print(\"Random prediction AUROC ____ = %.3f\" %(aurRand))\n",
    "print(\"SVM score of AUROC ________  = %.3f\" %(svmAUC))\n",
    "print(\"Naive Bayes score of AUROC _ = %.3f\" %(nbAUC))\n",
    "print(\"Decion Tree score of AUROC _ = %.3f\" %(dtAUC))\n",
    "print(\"Random Forest score of AUROC = %.3f\" %(rfAUC))\n",
    "print(\"AdaBoost Score of AUROC ____ = %.3f\" %(adaBoostAUC))"
   ]
  },
  {
   "cell_type": "markdown",
   "metadata": {},
   "source": [
    "Computing the ROC curve"
   ]
  },
  {
   "cell_type": "code",
   "execution_count": 46,
   "metadata": {},
   "outputs": [],
   "source": [
    "RandFPR, randTPR, _ = roc_curve(tTestY, probs)\n",
    "svmFPR, svmTPR, _ = roc_curve(tTestY, svmProb)\n",
    "nbFPR, nbTPR, _ = roc_curve(tTestY, nbProb)\n",
    "dtFPR, dtTPR, _ = roc_curve(tTestY, dtProb)\n",
    "rfFPR, rfTPR, _ = roc_curve(tTestY, rfProb)\n",
    "adaBoostFPR, adaBoostTPR, _ = roc_curve(tTestY, adaBoostProb)"
   ]
  },
  {
   "cell_type": "markdown",
   "metadata": {},
   "source": [
    "Ploting the ROC: comparision of all models"
   ]
  },
  {
   "cell_type": "code",
   "execution_count": 47,
   "metadata": {},
   "outputs": [
    {
     "data": {
      "image/png": "[encoded data removed]",
      "text/plain": [
       "<Figure size 432x288 with 1 Axes>"
      ]
     },
     "metadata": {
      "needs_background": "light"
     },
     "output_type": "display_data"
    }
   ],
   "source": [
    "plt.Figure(figsize=(16, 12))\n",
    "plt.plot(RandFPR, randTPR,  linestyle = '--', label= 'Random (AUROC = %.3f)' % aurRand )\n",
    "plt.plot(svmFPR, svmTPR,  linestyle = 'solid', label= 'SVM (AUROC = %.3f)' % svmAUC )\n",
    "plt.plot(nbFPR, nbTPR,  linestyle = 'solid', label= 'NB (AUROC = %.3f)' % nbAUC )\n",
    "plt.plot(dtFPR, dtTPR,  linestyle = 'solid', label= 'DT (AUROC = %.3f)' % dtAUC )\n",
    "plt.plot(rfFPR, rfTPR,  linestyle = 'solid', label= 'RF (AUROC = %.3f)' % rfAUC )\n",
    "plt.plot(adaBoostFPR, adaBoostTPR,  linestyle = 'solid', label= 'ABoost (AUROC = %.3f)' % adaBoostAUC )\n",
    "\n",
    "plt.title('ROC Plot: comparison of Models')\n",
    "plt.xlabel('FPR')\n",
    "plt.ylabel('TPR')\n",
    "plt.legend()\n",
    "plt.show()\n"
   ]
  },
  {
   "cell_type": "code",
   "execution_count": 48,
   "metadata": {},
   "outputs": [
    {
     "data": {
      "text/plain": [
       "['nbModelPred.joblib']"
      ]
     },
     "execution_count": 48,
     "metadata": {},
     "output_type": "execute_result"
    }
   ],
   "source": [
    "from joblib import dump\n",
    "fileName = \"nbModelPred.joblib\"\n",
    "dump(nbModel, fileName)"
   ]
  },
  {
   "cell_type": "code",
   "execution_count": 49,
   "metadata": {},
   "outputs": [
    {
     "data": {
      "text/plain": [
       "['vect.joblib']"
      ]
     },
     "execution_count": 49,
     "metadata": {},
     "output_type": "execute_result"
    }
   ],
   "source": [
    "vectorName = \"vect.joblib\"\n",
    "dump(ngramVC, vectorName)"
   ]
  }
 ],
 "metadata": {
  "kernelspec": {
   "display_name": "Python 3.10.6 64-bit",
   "language": "python",
   "name": "python3"
  },
  "language_info": {
   "codemirror_mode": {
    "name": "ipython",
    "version": 3
   },
   "file_extension": ".py",
   "mimetype": "text/x-python",
   "name": "python",
   "nbconvert_exporter": "python",
   "pygments_lexer": "ipython3",
   "version": "3.10.6"
  },
  "vscode": {
   "interpreter": {
    "hash": "26de051ba29f2982a8de78e945f0abaf191376122a1563185a90213a26c5da77"
   }
  }
 },
 "nbformat": 4,
 "nbformat_minor": 2
}
